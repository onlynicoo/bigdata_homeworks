{
 "cells": [
  {
   "cell_type": "code",
   "execution_count": 1,
   "id": "8d50a33f",
   "metadata": {},
   "outputs": [],
   "source": [
    "from pyspark import SparkContext, SparkConf\n",
    "import sys\n",
    "import os\n",
    "import random as rand\n",
    "import CountTriangles as ct\n",
    "from collections import defaultdict"
   ]
  },
  {
   "cell_type": "code",
   "execution_count": 2,
   "id": "4025e77f",
   "metadata": {},
   "outputs": [
    {
     "name": "stdout",
     "output_type": "stream",
     "text": [
      "23/03/25 15:40:45 WARN Utils: Your hostname, MacBook-Pro-di-Nicola.local resolves to a loopback address: 127.0.0.1; using 10.0.8.93 instead (on interface en0)\n",
      "23/03/25 15:40:45 WARN Utils: Set SPARK_LOCAL_IP if you need to bind to another address\n"
     ]
    },
    {
     "name": "stderr",
     "output_type": "stream",
     "text": [
      "Setting default log level to \"WARN\".\n",
      "To adjust logging level use sc.setLogLevel(newLevel). For SparkR, use setLogLevel(newLevel).\n"
     ]
    },
    {
     "name": "stdout",
     "output_type": "stream",
     "text": [
      "23/03/25 15:40:46 WARN NativeCodeLoader: Unable to load native-hadoop library for your platform... using builtin-java classes where applicable\n"
     ]
    }
   ],
   "source": [
    "conf = SparkConf().setAppName('TriangleCountExercise')\n",
    "sc = SparkContext(conf=conf)\n"
   ]
  },
  {
   "cell_type": "code",
   "execution_count": 3,
   "id": "a6184ba9",
   "metadata": {},
   "outputs": [
    {
     "data": {
      "text/plain": [
       "MapPartitionsRDD[6] at coalesce at DirectMethodHandleAccessor.java:104"
      ]
     },
     "execution_count": 3,
     "metadata": {},
     "output_type": "execute_result"
    }
   ],
   "source": [
    "# 1. Read number of partitions\n",
    "C = 3\n",
    "data_path = \"facebook_small.txt\"\n",
    "assert os.path.isfile(data_path), \"File or folder not found\"\n",
    "docs = sc.textFile(data_path,minPartitions=C).cache()\n",
    "docs.repartition(numPartitions=C)"
   ]
  },
  {
   "cell_type": "code",
   "execution_count": 4,
   "id": "beecee6b",
   "metadata": {},
   "outputs": [],
   "source": [
    "def CountTriangles(edges):\n",
    "    print(edges)\n",
    "    # Create a defaultdict to store the neighbors of each vertex\n",
    "    neighbors = defaultdict(set)\n",
    "    for edge in edges:\n",
    "        u, v = edge\n",
    "        neighbors[u].add(v)\n",
    "        neighbors[v].add(u)\n",
    "\n",
    "    # Initialize the triangle count to zero\n",
    "    triangle_count = 0\n",
    "\n",
    "    # Iterate over each vertex in the graph.\n",
    "    # To avoid duplicates, we count a triangle <u, v, w> only if u<v<w\n",
    "    for u in neighbors:\n",
    "        # Iterate over each pair of neighbors of u\n",
    "        for v in neighbors[u]:\n",
    "            if v > u:\n",
    "                for w in neighbors[v]:\n",
    "                    # If w is also a neighbor of u, then we have a triangle\n",
    "                    if w > v and w in neighbors[u]:\n",
    "                        triangle_count += 1\n",
    "    # Return the total number of triangles in the graph\n",
    "    return triangle_count\n"
   ]
  },
  {
   "cell_type": "code",
   "execution_count": 5,
   "id": "78554df5",
   "metadata": {},
   "outputs": [],
   "source": [
    "def assign_random_key(docs, C):\n",
    "    edge_list = []\n",
    "    for edge in docs.split(','):\n",
    "        edge_list.append(edge)\n",
    "    return [(rand.randint(0,C-1), edge_list)]"
   ]
  },
  {
   "cell_type": "code",
   "execution_count": 9,
   "id": "68eeb68d",
   "metadata": {},
   "outputs": [],
   "source": [
    "def count_triangles_task_two(docs, C):\n",
    "    tri_count = (docs.flatMapValues(lambda x: assign_random_key(x, C)) # <-- MAP PHASE (R1)\n",
    "                .groupByKey()                                    # <-- SHUFFLE+GROUPING\n",
    "                 \n",
    "                .reduceByKey(CountTriangles)                     # <-- REDUCE PHASE (R1)\n",
    "                .reduceByKey(lambda x, y : x + y)\n",
    "                )\n",
    "    return tri_count"
   ]
  },
  {
   "cell_type": "code",
   "execution_count": 10,
   "id": "1539a068",
   "metadata": {
    "scrolled": false
   },
   "outputs": [
    {
     "name": "stdout",
     "output_type": "stream",
     "text": [
      "Number of triangles task two = 10\n"
     ]
    }
   ],
   "source": [
    "# 2-ROUND WORD COUNT - RANDOM KEYS ASSIGNED IN MAP PHASE\n",
    "print(\"Number of triangles task two =\", count_triangles_task_two(docs, C).count())"
   ]
  }
 ],
 "metadata": {
  "kernelspec": {
   "display_name": "Python 3 (ipykernel)",
   "language": "python",
   "name": "python3"
  },
  "language_info": {
   "codemirror_mode": {
    "name": "ipython",
    "version": 3
   },
   "file_extension": ".py",
   "mimetype": "text/x-python",
   "name": "python",
   "nbconvert_exporter": "python",
   "pygments_lexer": "ipython3",
   "version": "3.10.9"
  }
 },
 "nbformat": 4,
 "nbformat_minor": 5
}
