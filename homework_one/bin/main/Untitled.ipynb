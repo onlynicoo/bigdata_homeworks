{
 "cells": [
  {
   "cell_type": "code",
   "execution_count": 2,
   "id": "8d50a33f",
   "metadata": {},
   "outputs": [],
   "source": [
    "from pyspark import SparkContext, SparkConf\n",
    "import sys\n",
    "import os\n",
    "import random as rand\n",
    "import CountTriangles as ct\n",
    "from collections import defaultdict"
   ]
  },
  {
   "cell_type": "code",
   "execution_count": 3,
   "id": "4025e77f",
   "metadata": {},
   "outputs": [
    {
     "name": "stderr",
     "output_type": "stream",
     "text": [
      "Setting default log level to \"WARN\".\n",
      "To adjust logging level use sc.setLogLevel(newLevel). For SparkR, use setLogLevel(newLevel).\n"
     ]
    },
    {
     "name": "stdout",
     "output_type": "stream",
     "text": [
      "23/03/28 10:13:43 WARN NativeCodeLoader: Unable to load native-hadoop library for your platform... using builtin-java classes where applicable\n"
     ]
    }
   ],
   "source": [
    "conf = SparkConf().setAppName('TriangleCountExercise')\n",
    "sc = SparkContext(conf=conf)"
   ]
  },
  {
   "cell_type": "code",
   "execution_count": 5,
   "id": "a6184ba9",
   "metadata": {
    "scrolled": true
   },
   "outputs": [
    {
     "data": {
      "text/plain": [
       "MapPartitionsRDD[13] at coalesce at DirectMethodHandleAccessor.java:104"
      ]
     },
     "execution_count": 5,
     "metadata": {},
     "output_type": "execute_result"
    }
   ],
   "source": [
    "# 1. Read number of partitions\n",
    "C = 2\n",
    "data_path = \"facebook_small.txt\"\n",
    "assert os.path.isfile(data_path), \"File or folder not found\"\n",
    "docs = sc.textFile(data_path,minPartitions=C).cache()\n",
    "docs.repartition(numPartitions=C)"
   ]
  },
  {
   "cell_type": "code",
   "execution_count": 5,
   "id": "beecee6b",
   "metadata": {},
   "outputs": [],
   "source": [
    "def CountTriangles(edges):\n",
    "    # Create a defaultdict to store the neighbors of each vertex\n",
    "    neighbors = defaultdict(set)\n",
    "    for edge in edges:\n",
    "        u, v = edge\n",
    "        neighbors[u].add(v)\n",
    "        neighbors[v].add(u)\n",
    "\n",
    "    # Initialize the triangle count to zero\n",
    "    triangle_count = 0\n",
    "\n",
    "    # Iterate over each vertex in the graph.\n",
    "    # To avoid duplicates, we count a triangle <u, v, w> only if u<v<w\n",
    "    for u in neighbors:\n",
    "        # Iterate over each pair of neighbors of u\n",
    "        for v in neighbors[u]:\n",
    "            if v > u:\n",
    "                for w in neighbors[v]:\n",
    "                    # If w is also a neighbor of u, then we have a triangle\n",
    "                    if w > v and w in neighbors[u]:\n",
    "                        triangle_count += 1\n",
    "    # Return the total number of triangles in the graph\n",
    "    return triangle_count"
   ]
  },
  {
   "cell_type": "code",
   "execution_count": 9,
   "id": "6f460ce4",
   "metadata": {},
   "outputs": [],
   "source": [
    "def count_triangles_partitions(pairs):\n",
    "    edges = [pair[1] for pair in pairs]\n",
    "    return [(DEFAULT_KEY, CountTriangles(edges))]"
   ]
  },
  {
   "cell_type": "code",
   "execution_count": 16,
   "id": "998f2287",
   "metadata": {},
   "outputs": [],
   "source": [
    "def MR_ApproxTCwithSparkPartitions(docs):\n",
    "    tri_count = (\n",
    "                docs.map(lambda x: (rand.randint(0, C-1), x))  # MAP PHASE (R1)\n",
    "                .mapPartitions(count_triangles_partitions)  # REDUCE PHASE (R1)\n",
    "                .reduceByKey(lambda x, y: x + y)  # REDUCE PHASE (R2)\n",
    "        )\n",
    "\n",
    "    print(tri_count.collect())\n",
    "    return(tri_count.collect())"
   ]
  },
  {
   "cell_type": "code",
   "execution_count": 15,
   "id": "786d742b",
   "metadata": {},
   "outputs": [
    {
     "name": "stdout",
     "output_type": "stream",
     "text": [
      "[(1, 1332868)]\n"
     ]
    },
    {
     "data": {
      "text/plain": [
       "[(1, 1332868)]"
      ]
     },
     "execution_count": 15,
     "metadata": {},
     "output_type": "execute_result"
    }
   ],
   "source": [
    "a = docs.map(lambda x: (int(x.split(\",\")[0]), int(x.split(\",\")[1]))) # <-- MAP PHASE (R1)\n",
    "\n",
    "#(C**2)*\n",
    "MR_ApproxTCwithSparkPartitions(a)"
   ]
  }
 ],
 "metadata": {
  "kernelspec": {
   "display_name": "Python 3 (ipykernel)",
   "language": "python",
   "name": "python3"
  },
  "language_info": {
   "codemirror_mode": {
    "name": "ipython",
    "version": 3
   },
   "file_extension": ".py",
   "mimetype": "text/x-python",
   "name": "python",
   "nbconvert_exporter": "python",
   "pygments_lexer": "ipython3",
   "version": "3.10.9"
  }
 },
 "nbformat": 4,
 "nbformat_minor": 5
}
